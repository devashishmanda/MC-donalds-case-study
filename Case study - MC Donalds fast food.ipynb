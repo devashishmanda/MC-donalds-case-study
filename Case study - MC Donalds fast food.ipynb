{
 "cells": [
  {
   "cell_type": "markdown",
   "id": "5a8f2254",
   "metadata": {},
   "source": [
    "# Step 4: Exploring Data"
   ]
  },
  {
   "cell_type": "code",
   "execution_count": 1,
   "id": "07d4e546",
   "metadata": {},
   "outputs": [],
   "source": [
    "import pandas as pd\n",
    "import numpy as np\n",
    "from sklearn.decomposition import PCA\n",
    "import matplotlib.pyplot as plt\n",
    "\n",
    "# Read the dataset\n",
    "url = \"https://homepage.boku.ac.at/leisch/MSA/datasets/mcdonalds.csv\"\n",
    "mcdonalds = pd.read_csv(url)"
   ]
  },
  {
   "cell_type": "code",
   "execution_count": 2,
   "id": "28b49faf",
   "metadata": {},
   "outputs": [],
   "source": [
    "import warnings\n",
    "warnings.filterwarnings(\"ignore\")"
   ]
  },
  {
   "cell_type": "code",
   "execution_count": 3,
   "id": "65081693",
   "metadata": {},
   "outputs": [
    {
     "name": "stdout",
     "output_type": "stream",
     "text": [
      "Index(['yummy', 'convenient', 'spicy', 'fattening', 'greasy', 'fast', 'cheap',\n",
      "       'tasty', 'expensive', 'healthy', 'disgusting', 'Like', 'Age',\n",
      "       'VisitFrequency', 'Gender'],\n",
      "      dtype='object')\n"
     ]
    }
   ],
   "source": [
    "print(mcdonalds.columns)"
   ]
  },
  {
   "cell_type": "code",
   "execution_count": 4,
   "id": "95282f02",
   "metadata": {},
   "outputs": [
    {
     "name": "stdout",
     "output_type": "stream",
     "text": [
      "(1453, 15)\n"
     ]
    }
   ],
   "source": [
    "print(mcdonalds.shape)"
   ]
  },
  {
   "cell_type": "code",
   "execution_count": 5,
   "id": "f66c7b35",
   "metadata": {},
   "outputs": [
    {
     "name": "stdout",
     "output_type": "stream",
     "text": [
      "  yummy convenient spicy fattening greasy fast cheap tasty expensive healthy  \\\n",
      "0    No        Yes    No       Yes     No  Yes   Yes    No       Yes      No   \n",
      "1   Yes        Yes    No       Yes    Yes  Yes   Yes   Yes       Yes      No   \n",
      "2    No        Yes   Yes       Yes    Yes  Yes    No   Yes       Yes     Yes   \n",
      "\n",
      "  disgusting Like  Age      VisitFrequency  Gender  \n",
      "0         No   -3   61  Every three months  Female  \n",
      "1         No   +2   51  Every three months  Female  \n",
      "2         No   +1   62  Every three months  Female  \n"
     ]
    }
   ],
   "source": [
    "print(mcdonalds.head(3))"
   ]
  },
  {
   "cell_type": "code",
   "execution_count": 6,
   "id": "234c4950",
   "metadata": {},
   "outputs": [
    {
     "name": "stdout",
     "output_type": "stream",
     "text": [
      "yummy         0.55\n",
      "convenient    0.91\n",
      "spicy         0.09\n",
      "fattening     0.87\n",
      "greasy        0.53\n",
      "fast          0.90\n",
      "cheap         0.60\n",
      "tasty         0.64\n",
      "expensive     0.36\n",
      "healthy       0.20\n",
      "disgusting    0.24\n",
      "dtype: float64\n"
     ]
    }
   ],
   "source": [
    "MD_x = mcdonalds.iloc[:, 0:11]\n",
    "\n",
    "MD_x = (MD_x == \"Yes\").astype(int)\n",
    "\n",
    "col_means = MD_x.mean()\n",
    "print(round(col_means, 2))"
   ]
  },
  {
   "cell_type": "code",
   "execution_count": 7,
   "id": "8dbbd3bb",
   "metadata": {},
   "outputs": [
    {
     "name": "stdout",
     "output_type": "stream",
     "text": [
      "Proportion of Variance Explained by Each Principal Component:\n",
      "[0.29944723 0.19279721 0.13304535 0.08309578 0.05948052 0.05029956\n",
      " 0.0438491  0.03954779 0.0367609  0.03235329 0.02932326]\n"
     ]
    }
   ],
   "source": [
    "pca = PCA()\n",
    "MD_pca = pca.fit_transform(MD_x)\n",
    "\n",
    "variance_ratio = pca.explained_variance_ratio_\n",
    "print(\"Proportion of Variance Explained by Each Principal Component:\")\n",
    "print(variance_ratio)"
   ]
  },
  {
   "cell_type": "code",
   "execution_count": 8,
   "id": "465432e7",
   "metadata": {},
   "outputs": [
    {
     "name": "stdout",
     "output_type": "stream",
     "text": [
      "Importance of components:\n",
      "     Standard deviationProportion of Variance Cumulative Proportion\n",
      "PC1  0.57312        0.29945                0.29945              \n",
      "PC2  0.36900        0.19280                0.49224              \n",
      "PC3  0.25464        0.13305                0.62529              \n",
      "PC4  0.15904        0.08310                0.70839              \n",
      "PC5  0.11384        0.05948                0.76787              \n",
      "PC6  0.09627        0.05030                0.81817              \n",
      "PC7  0.08392        0.04385                0.86201              \n",
      "PC8  0.07569        0.03955                0.90156              \n",
      "PC9  0.07036        0.03676                0.93832              \n",
      "PC10 0.06192        0.03235                0.97068              \n",
      "PC11 0.05612        0.02932                1.00000              \n"
     ]
    }
   ],
   "source": [
    "pca = PCA()\n",
    "MD_pca = pca.fit_transform(MD_x)\n",
    "\n",
    "explained_var = pca.explained_variance_\n",
    "prop_var = pca.explained_variance_ratio_\n",
    "cum_prop_var = np.cumsum(pca.explained_variance_ratio_)\n",
    "\n",
    "num_components = len(explained_var)\n",
    "print(\"Importance of components:\")\n",
    "print(f\"{'':<5}{'Standard deviation':<15}{'Proportion of Variance':<23}{'Cumulative Proportion':<21}\")\n",
    "for i in range(num_components):\n",
    "    print(f\"PC{i+1:<3}{explained_var[i]:<15.5f}{prop_var[i]:<23.5f}{cum_prop_var[i]:<21.5f}\")"
   ]
  },
  {
   "cell_type": "code",
   "execution_count": 9,
   "id": "a2211c06",
   "metadata": {},
   "outputs": [
    {
     "name": "stdout",
     "output_type": "stream",
     "text": [
      "Principal Components:\n",
      "PC1:\n",
      "[-0.5 -0.2 -0.   0.1  0.3 -0.1 -0.3 -0.5  0.3 -0.2  0.4]\n",
      "PC2:\n",
      "[ 0.4  0.   0.  -0.  -0.1 -0.1 -0.6  0.3  0.6  0.1 -0.1]\n",
      "PC3:\n",
      "[-0.3 -0.1 -0.  -0.3 -0.8 -0.1 -0.1 -0.3  0.   0.2 -0.1]\n",
      "PC4:\n",
      "[ 0.1 -0.1  0.2 -0.4  0.3 -0.1  0.1 -0.   0.1  0.8  0.4]\n",
      "PC5:\n",
      "[-0.3  0.3  0.1 -0.1  0.4  0.1 -0.1 -0.2 -0.   0.3 -0.7]\n",
      "PC6:\n",
      "[ 0.2 -0.3 -0.4 -0.4  0.2 -0.6 -0.1 -0.1 -0.3 -0.2 -0.2]\n",
      "PC7:\n",
      "[-0.3 -0.1  0.7 -0.4  0.  -0.1 -0.   0.4 -0.1 -0.3 -0. ]\n",
      "PC8:\n",
      "[ 0.  -0.1  0.4  0.6 -0.1 -0.6  0.1 -0.1  0.   0.2 -0.2]\n",
      "PC9:\n",
      "[ 0.6 -0.   0.4 -0.2 -0.   0.2  0.1 -0.6  0.1 -0.2 -0.1]\n",
      "PC10:\n",
      "[-0.1 -0.7 -0.1 -0.   0.   0.2  0.4  0.1  0.5 -0.  -0.3]\n",
      "PC11:\n",
      "[ 0.  -0.5  0.1  0.3  0.   0.3 -0.5  0.  -0.5  0.2 -0. ]\n"
     ]
    }
   ],
   "source": [
    "num_components = len(pca.components_)\n",
    "\n",
    "print(\"Principal Components:\")\n",
    "for i in range(num_components):\n",
    "    print(f\"PC{i+1}:\")\n",
    "    print(np.round(pca.components_[i], 1))"
   ]
  },
  {
   "cell_type": "code",
   "execution_count": 10,
   "id": "c63a1ddc",
   "metadata": {},
   "outputs": [
    {
     "data": {
      "image/png": "[encoded data removed]",
      "text/plain": [
       "<Figure size 432x288 with 1 Axes>"
      ]
     },
     "metadata": {
      "needs_background": "light"
     },
     "output_type": "display_data"
    }
   ],
   "source": [
    "plt.scatter(MD_pca[:, 0], MD_pca[:, 1], c='grey')\n",
    "plt.xlabel('Principal Component 1')\n",
    "plt.ylabel('Principal Component 2')\n",
    "plt.show()"
   ]
  },
  {
   "cell_type": "markdown",
   "id": "7f541467",
   "metadata": {},
   "source": [
    "## Step 5: Extracting Segments\n"
   ]
  },
  {
   "cell_type": "markdown",
   "id": "d5b073c2",
   "metadata": {},
   "source": [
    "### Using k-Means"
   ]
  },
  {
   "cell_type": "code",
   "execution_count": 11,
   "id": "668e79d9",
   "metadata": {},
   "outputs": [
    {
     "data": {
      "text/plain": [
       "[array([1, 0, 0, ..., 0, 0, 1]),\n",
       " array([1, 2, 2, ..., 2, 0, 1]),\n",
       " array([0, 3, 3, ..., 3, 2, 1]),\n",
       " array([4, 1, 2, ..., 2, 3, 0]),\n",
       " array([5, 2, 0, ..., 0, 1, 3]),\n",
       " array([4, 0, 3, ..., 3, 6, 1]),\n",
       " array([1, 0, 0, ..., 5, 2, 3])]"
      ]
     },
     "execution_count": 11,
     "metadata": {},
     "output_type": "execute_result"
    }
   ],
   "source": [
    "from sklearn.cluster import KMeans\n",
    "\n",
    "# Assuming MD.x is the matrix in Python (numpy array format)\n",
    "# Set the random seed\n",
    "np.random.seed(1234)\n",
    "\n",
    "# Initialize variables to store the clustering results\n",
    "clustering_results = []\n",
    "\n",
    "# Perform clustering for different numbers of clusters (2 to 8)\n",
    "for n_clusters in range(2, 9):\n",
    "    kmeans = KMeans(n_clusters=n_clusters, n_init=10, random_state=1234)\n",
    "    labels = kmeans.fit_predict(MD_x)\n",
    "    clustering_results.append(labels)\n",
    "\n",
    "# You can inspect the clustering results to analyze the clusters obtained\n",
    "clustering_results"
   ]
  },
  {
   "cell_type": "code",
   "execution_count": 50,
   "id": "58dbe1e8",
   "metadata": {},
   "outputs": [
    {
     "data": {
      "image/png": "[encoded data removed]",
      "text/plain": [
       "<Figure size 432x288 with 1 Axes>"
      ]
     },
     "metadata": {
      "needs_background": "light"
     },
     "output_type": "display_data"
    }
   ],
   "source": [
    "# Assuming MD.x is the matrix in Python (numpy array format)\n",
    "# Set the random seed\n",
    "np.random.seed(1234)\n",
    "\n",
    "# Initialize variables to store inertia values\n",
    "inertia_values = []\n",
    "\n",
    "# Perform k-means clustering for different numbers of clusters (2 to 8)\n",
    "for n_clusters in range(2, 9):\n",
    "    kmeans = KMeans(n_clusters=n_clusters, n_init=10, random_state=1234)\n",
    "    kmeans.fit(MD_x)\n",
    "    inertia_values.append(kmeans.inertia_)\n",
    "\n",
    "# Plotting the inertia or within-cluster sum of squares\n",
    "plt.bar(range(2, 9), inertia_values)\n",
    "plt.xlabel('Number of Segments')\n",
    "plt.ylabel('Sum of Within-Cluster distance')\n",
    "plt.title('Scree Plot')\n",
    "plt.show()\n"
   ]
  },
  {
   "cell_type": "code",
   "execution_count": 18,
   "id": "b359afd7",
   "metadata": {},
   "outputs": [
    {
     "data": {
      "image/png": "[encoded data removed]",
      "text/plain": [
       "<Figure size 432x288 with 1 Axes>"
      ]
     },
     "metadata": {
      "needs_background": "light"
     },
     "output_type": "display_data"
    }
   ],
   "source": [
    "# Set the random seed\n",
    "np.random.seed(1234)\n",
    "\n",
    "# Assuming MD_x is the matrix in Python (numpy array format)\n",
    "# Initialize variables\n",
    "n_clusters_range = range(2, 9)\n",
    "n_rep = 10\n",
    "n_boot = 100\n",
    "\n",
    "# Function to perform k-means clustering on a dataset\n",
    "def kmeans_clustering(MD_x, n_clusters):\n",
    "    kmeans = KMeans(n_clusters=n_clusters, n_init=n_rep, random_state=1234)\n",
    "    kmeans.fit(MD_x)\n",
    "    return kmeans.labels_\n",
    "\n",
    "# Generate bootstrap samples\n",
    "n_samples = MD_x.shape[0]\n",
    "bootstrap_indices = np.random.choice(n_samples, size=(n_boot, n_samples), replace=True)\n",
    "\n",
    "# Perform k-means clustering on each bootstrap sample\n",
    "cluster_assignments = np.zeros((n_boot, n_samples))\n",
    "for i in range(n_boot):\n",
    "    bootstrap_sample = MD_x.iloc[bootstrap_indices[i]]  # Use iloc to select rows\n",
    "    for n_clusters in n_clusters_range:\n",
    "        labels = kmeans_clustering(bootstrap_sample, n_clusters)\n",
    "        cluster_assignments[i, :] += labels * (10 ** n_clusters)  # Making unique labels for different clusters\n",
    "from sklearn.metrics import adjusted_rand_score\n",
    "\n",
    "# Calculate stability (e.g., adjusted Rand index) between clusterings\n",
    "stability_matrix = np.zeros((len(n_clusters_range), len(n_clusters_range)))\n",
    "for i, n_clusters1 in enumerate(n_clusters_range):\n",
    "    for j, n_clusters2 in enumerate(n_clusters_range):\n",
    "        # Measure stability using adjusted Rand index\n",
    "        stability = adjusted_rand_score(cluster_assignments[:, i], cluster_assignments[:, j])\n",
    "        stability_matrix[i, j] = stability\n",
    "\n",
    "# Plotting the stability using boxplots\n",
    "plt.figure(figsize=(8, 6))\n",
    "plt.boxplot(stability_matrix.T)\n",
    "plt.xlabel('Number of Segments')\n",
    "plt.ylabel('Adjusted Rand Index')\n",
    "plt.title('Stability of Clusterings')\n",
    "plt.xticks(np.arange(1, len(n_clusters_range) + 1), n_clusters_range)\n",
    "plt.show()"
   ]
  },
  {
   "cell_type": "code",
   "execution_count": 76,
   "id": "972a47d7",
   "metadata": {},
   "outputs": [
    {
     "data": {
      "image/png": "[encoded data removed]",
      "text/plain": [
       "<Figure size 720x576 with 4 Axes>"
      ]
     },
     "metadata": {
      "needs_background": "light"
     },
     "output_type": "display_data"
    }
   ],
   "source": [
    "kmeans = KMeans(n_clusters=4, n_init=10, random_state=1234)\n",
    "kmeans.fit(MD_x)\n",
    "labels = kmeans.labels_\n",
    "\n",
    "# Create subplots for each cluster\n",
    "fig, axs = plt.subplots(2, 2, figsize=(10, 8))\n",
    "\n",
    "# Iterate through clusters and create histograms\n",
    "for cluster_num in range(4):\n",
    "    row = cluster_num // 2\n",
    "    col = cluster_num % 2\n",
    "    axs[row, col].hist(MD_x[labels == cluster_num], bins=10,density=True)\n",
    "    axs[row, col].set_title(f'Cluster {cluster_num}')\n",
    "    axs[row, col].set_xlabel('Feature 1')\n",
    "    axs[row, col].set_ylabel('Frequency')\n",
    "\n",
    "plt.tight_layout()\n",
    "plt.show()\n",
    "\n"
   ]
  },
  {
   "cell_type": "code",
   "execution_count": 90,
   "id": "ec90b5cd",
   "metadata": {
    "scrolled": true
   },
   "outputs": [
    {
     "data": {
      "text/plain": [
       "array([[0.01923077, 0.90659341, 0.08241758, 0.93131868, 0.59615385,\n",
       "        0.95604396, 0.9010989 , 0.28571429, 0.01373626, 0.07417582,\n",
       "        0.32967033],\n",
       "       [0.02083333, 0.67916667, 0.075     , 0.91666667, 0.70833333,\n",
       "        0.74166667, 0.06666667, 0.07916667, 0.89583333, 0.0625    ,\n",
       "        0.725     ],\n",
       "       [0.96622889, 0.98123827, 0.08442777, 0.77861163, 0.34896811,\n",
       "        0.9587242 , 0.92307692, 0.97373358, 0.01876173, 0.33958724,\n",
       "        0.04690432],\n",
       "       [0.87341772, 0.95886076, 0.13607595, 0.90506329, 0.60759494,\n",
       "        0.85759494, 0.10759494, 0.93037975, 0.91772152, 0.20886076,\n",
       "        0.10759494]])"
      ]
     },
     "execution_count": 90,
     "metadata": {},
     "output_type": "execute_result"
    }
   ],
   "source": [
    "kmeans = KMeans(n_clusters=4, n_init=10, random_state=1234)\n",
    "kmeans.fit(MD_x)\n",
    "centroids=kmeans.cluster_centers_\n",
    "centroids\n"
   ]
  },
  {
   "cell_type": "code",
   "execution_count": 94,
   "id": "20a2ca77",
   "metadata": {},
   "outputs": [
    {
     "data": {
      "text/plain": [
       "<module 'matplotlib.pyplot' from 'C:\\\\Users\\\\Devashish Manda\\\\anaconda3\\\\lib\\\\site-packages\\\\matplotlib\\\\pyplot.py'>"
      ]
     },
     "execution_count": 94,
     "metadata": {},
     "output_type": "execute_result"
    },
    {
     "data": {
      "image/png": "[encoded data removed]",
      "text/plain": [
       "<Figure size 432x288 with 1 Axes>"
      ]
     },
     "metadata": {
      "needs_background": "light"
     },
     "output_type": "display_data"
    }
   ],
   "source": [
    "plt.boxplot(centroids.T)\n",
    "plt"
   ]
  },
  {
   "cell_type": "markdown",
   "id": "6f590f6b",
   "metadata": {},
   "source": [
    "##### The below code performs similar tasks to the R code provided earlier. It conducts KMeans clustering with different cluster numbers, calculates silhouette scores to evaluate the clustering stability, and then plots the silhouette scores against the number of clusters.\n",
    "\n",
    "#### This Python code doesn't replicate the exact steps of the R code, as the slswFlexclust function or its exact functionality isn't directly available in Python's standard libraries. However, using silhouette scores provides a means to evaluate the quality and stability of clustering solutions."
   ]
  },
  {
   "cell_type": "code",
   "execution_count": 93,
   "id": "3cdbdf09",
   "metadata": {},
   "outputs": [
    {
     "data": {
      "text/plain": [
       "<module 'matplotlib.pyplot' from 'C:\\\\Users\\\\Devashish Manda\\\\anaconda3\\\\lib\\\\site-packages\\\\matplotlib\\\\pyplot.py'>"
      ]
     },
     "execution_count": 93,
     "metadata": {},
     "output_type": "execute_result"
    },
    {
     "data": {
      "image/png": "[encoded data removed]",
      "text/plain": [
       "<Figure size 432x288 with 1 Axes>"
      ]
     },
     "metadata": {
      "needs_background": "light"
     },
     "output_type": "display_data"
    }
   ],
   "source": [
    "import pandas as pd\n",
    "import numpy as np\n",
    "from sklearn.cluster import KMeans\n",
    "from sklearn.metrics import silhouette_score\n",
    "import matplotlib.pyplot as plt\n",
    "\n",
    "# Assuming MD_x is your processed dataset in Python (numpy array or DataFrame format)\n",
    "\n",
    "# Function to perform KMeans clustering\n",
    "def kmeans_clustering(data, n_clusters):\n",
    "    kmeans = KMeans(n_clusters=n_clusters, random_state=1234)\n",
    "    labels = kmeans.fit_predict(data)\n",
    "    return labels\n",
    "\n",
    "# Set up the range of clusters\n",
    "n_clusters_range = range(2, 9)\n",
    "n_rep = 10\n",
    "\n",
    "# Initialize an array to store silhouette scores\n",
    "silhouette_scores = []\n",
    "\n",
    "# Perform clustering for each cluster number\n",
    "for n_clusters in n_clusters_range:\n",
    "    cluster_assignments = np.zeros((n_rep, len(MD_x)))\n",
    "    for i in range(n_rep):\n",
    "        # Generate cluster assignments\n",
    "        labels = kmeans_clustering(MD_x, n_clusters)\n",
    "        cluster_assignments[i] = labels\n",
    "\n",
    "    # Calculate silhouette scores and store the mean\n",
    "    silhouette = silhouette_score(MD_x, np.mean(cluster_assignments, axis=0))\n",
    "    silhouette_scores.append(silhouette)\n",
    "\n",
    "# Plot the silhouette scores against the number of clusters\n",
    "plt.plot(n_clusters_range, silhouette_scores, marker='o')\n",
    "plt.xlabel('Number of Clusters')\n",
    "plt.ylabel('Silhouette Score')\n",
    "plt.title('Silhouette Scores for Different Cluster Numbers')\n",
    "plt\n"
   ]
  },
  {
   "cell_type": "code",
   "execution_count": null,
   "id": "62f64f10",
   "metadata": {},
   "outputs": [],
   "source": []
  }
 ],
 "metadata": {
  "kernelspec": {
   "display_name": "Python 3 (ipykernel)",
   "language": "python",
   "name": "python3"
  },
  "language_info": {
   "codemirror_mode": {
    "name": "ipython",
    "version": 3
   },
   "file_extension": ".py",
   "mimetype": "text/x-python",
   "name": "python",
   "nbconvert_exporter": "python",
   "pygments_lexer": "ipython3",
   "version": "3.9.12"
  }
 },
 "nbformat": 4,
 "nbformat_minor": 5
}
